{
  "nbformat": 4,
  "nbformat_minor": 0,
  "metadata": {
    "colab": {
      "name": "CapsNet.ipynb",
      "provenance": []
    },
    "kernelspec": {
      "name": "python3",
      "display_name": "Python 3"
    },
    "accelerator": "GPU"
  },
  "cells": [
    {
      "cell_type": "code",
      "metadata": {
        "id": "b1ECF8ClYMaY",
        "colab_type": "code",
        "colab": {}
      },
      "source": [
        "!pip install tensorflow-gpu"
      ],
      "execution_count": 0,
      "outputs": []
    },
    {
      "cell_type": "code",
      "metadata": {
        "id": "DJvG4Sif_tzp",
        "colab_type": "code",
        "colab": {}
      },
      "source": [
        "import tensorflow as tf"
      ],
      "execution_count": 0,
      "outputs": []
    },
    {
      "cell_type": "code",
      "metadata": {
        "id": "J5epV04CYEBt",
        "colab_type": "code",
        "outputId": "87d2918e-01aa-46e3-bb96-ec5208b8622d",
        "colab": {
          "base_uri": "https://localhost:8080/",
          "height": 34
        }
      },
      "source": [
        "tf.__version__"
      ],
      "execution_count": 2,
      "outputs": [
        {
          "output_type": "execute_result",
          "data": {
            "text/plain": [
              "'2.0.0'"
            ]
          },
          "metadata": {
            "tags": []
          },
          "execution_count": 2
        }
      ]
    },
    {
      "cell_type": "code",
      "metadata": {
        "id": "_CEJW7jRYKr3",
        "colab_type": "code",
        "colab": {}
      },
      "source": [
        "import numpy as np\n",
        "import pandas as pd\n",
        "import matplotlib.pyplot as plt"
      ],
      "execution_count": 0,
      "outputs": []
    },
    {
      "cell_type": "code",
      "metadata": {
        "id": "abQNtJWlYxE1",
        "colab_type": "code",
        "outputId": "402b3043-1844-437c-cd43-b8efae36d252",
        "colab": {
          "base_uri": "https://localhost:8080/",
          "height": 51
        }
      },
      "source": [
        "dataset = tf.keras.datasets.mnist.load_data()"
      ],
      "execution_count": 4,
      "outputs": [
        {
          "output_type": "stream",
          "text": [
            "Downloading data from https://storage.googleapis.com/tensorflow/tf-keras-datasets/mnist.npz\n",
            "11493376/11490434 [==============================] - 0s 0us/step\n"
          ],
          "name": "stdout"
        }
      ]
    },
    {
      "cell_type": "code",
      "metadata": {
        "id": "UHrK1Df6at-W",
        "colab_type": "code",
        "colab": {}
      },
      "source": [
        "train_data = dataset[0]\n",
        "test_data = dataset[1]"
      ],
      "execution_count": 0,
      "outputs": []
    },
    {
      "cell_type": "code",
      "metadata": {
        "id": "vkhxNScQbKBV",
        "colab_type": "code",
        "outputId": "8eeab473-c307-4286-dd63-1accf4afe9a8",
        "colab": {
          "base_uri": "https://localhost:8080/",
          "height": 51
        }
      },
      "source": [
        "train_images = train_data[0].astype('float32')/255.\n",
        "train_images = train_images.reshape(-1 , 28 , 28 , 1)\n",
        "train_labels = np.array(tf.keras.utils.to_categorical(train_data[1].astype('float32')))\n",
        "\n",
        "print('Train Images : {}\\nLabels : {}'.format(train_images.shape , train_labels.shape))"
      ],
      "execution_count": 40,
      "outputs": [
        {
          "output_type": "stream",
          "text": [
            "Train Images : (60000, 28, 28, 1)\n",
            "Labels : (60000, 10)\n"
          ],
          "name": "stdout"
        }
      ]
    },
    {
      "cell_type": "code",
      "metadata": {
        "id": "VTWeVGGCZwpD",
        "colab_type": "code",
        "outputId": "3273a15f-d03c-429c-ac0b-0e02444b992f",
        "colab": {
          "base_uri": "https://localhost:8080/",
          "height": 282
        }
      },
      "source": [
        "i = 0\n",
        "plt.imshow(train_images[i])\n",
        "print('Label - {}'.format(train_labels[i]))"
      ],
      "execution_count": 7,
      "outputs": [
        {
          "output_type": "stream",
          "text": [
            "Label - 5\n"
          ],
          "name": "stdout"
        },
        {
          "output_type": "display_data",
          "data": {
            "image/png": "[encoded data removed]",
            "text/plain": [
              "<Figure size 432x288 with 1 Axes>"
            ]
          },
          "metadata": {
            "tags": []
          }
        }
      ]
    },
    {
      "cell_type": "markdown",
      "metadata": {
        "id": "-dqCLytrc3sV",
        "colab_type": "text"
      },
      "source": [
        "#**Capsule Network for MNIST**"
      ]
    },
    {
      "cell_type": "code",
      "metadata": {
        "id": "VLFbzTTydtGl",
        "colab_type": "code",
        "colab": {}
      },
      "source": [
        "inp_tensor = tf.keras.Input(shape=(28,28,1) , dtype=tf.float32 , name=\"input_tensor\")"
      ],
      "execution_count": 0,
      "outputs": []
    },
    {
      "cell_type": "code",
      "metadata": {
        "id": "s7C211xzKUXW",
        "colab_type": "code",
        "outputId": "f6966aab-aae7-4a0d-d5e0-58861e6a3dcb",
        "colab": {
          "base_uri": "https://localhost:8080/",
          "height": 34
        }
      },
      "source": [
        "tf.shape(inp_tensor)[0]"
      ],
      "execution_count": 9,
      "outputs": [
        {
          "output_type": "execute_result",
          "data": {
            "text/plain": [
              "<tf.Tensor 'strided_slice:0' shape=() dtype=int32>"
            ]
          },
          "metadata": {
            "tags": []
          },
          "execution_count": 9
        }
      ]
    },
    {
      "cell_type": "code",
      "metadata": {
        "id": "swmkIV2ie61Q",
        "colab_type": "code",
        "colab": {}
      },
      "source": [
        "conv1 = tf.keras.layers.Conv2D(256 , (9,9) , activation = 'relu' , padding = 'valid')(inp_tensor)\n",
        "conv2 = tf.keras.layers.Conv2D(256 , (9,9) , strides = 2 , padding = 'valid' , activation='relu')(conv1)"
      ],
      "execution_count": 0,
      "outputs": []
    },
    {
      "cell_type": "code",
      "metadata": {
        "id": "F8bYQJ8yKdvI",
        "colab_type": "code",
        "colab": {}
      },
      "source": [
        "capsule1_n_caps = 6*6*32\n",
        "capsule1_n_dims = 8"
      ],
      "execution_count": 0,
      "outputs": []
    },
    {
      "cell_type": "code",
      "metadata": {
        "id": "yOSV2T_JE09i",
        "colab_type": "code",
        "colab": {}
      },
      "source": [
        "capsule1_raw = tf.keras.layers.Reshape((capsule1_n_caps , capsule1_n_dims))(conv2)"
      ],
      "execution_count": 0,
      "outputs": []
    },
    {
      "cell_type": "code",
      "metadata": {
        "id": "H2h441UTZD55",
        "colab_type": "code",
        "outputId": "9e86af13-a95c-4688-b743-03db17817730",
        "colab": {
          "base_uri": "https://localhost:8080/",
          "height": 34
        }
      },
      "source": [
        "capsule1_raw.shape"
      ],
      "execution_count": 13,
      "outputs": [
        {
          "output_type": "execute_result",
          "data": {
            "text/plain": [
              "TensorShape([None, 1152, 8])"
            ]
          },
          "metadata": {
            "tags": []
          },
          "execution_count": 13
        }
      ]
    },
    {
      "cell_type": "code",
      "metadata": {
        "id": "GCODq4aNF8rw",
        "colab_type": "code",
        "colab": {}
      },
      "source": [
        "def squash(inputs , axis=-1):\n",
        "  sq_norm = tf.keras.backend.sum(tf.keras.backend.square(inputs) , axis=axis , keepdims=True)\n",
        "  return ((sq_norm/(1. + sq_norm))/(tf.keras.backend.sqrt(sq_norm + tf.keras.backend.epsilon())))*inputs"
      ],
      "execution_count": 0,
      "outputs": []
    },
    {
      "cell_type": "code",
      "metadata": {
        "id": "ita_O_qYHkJN",
        "colab_type": "code",
        "colab": {}
      },
      "source": [
        "capsule1_out = tf.keras.layers.Lambda(squash)(capsule1_raw)"
      ],
      "execution_count": 0,
      "outputs": []
    },
    {
      "cell_type": "code",
      "metadata": {
        "id": "QD7p5pbTYsvK",
        "colab_type": "code",
        "outputId": "7e454e39-b37f-4ee5-f942-a666d8172503",
        "colab": {
          "base_uri": "https://localhost:8080/",
          "height": 34
        }
      },
      "source": [
        "capsule1_out.shape"
      ],
      "execution_count": 16,
      "outputs": [
        {
          "output_type": "execute_result",
          "data": {
            "text/plain": [
              "TensorShape([None, 1152, 8])"
            ]
          },
          "metadata": {
            "tags": []
          },
          "execution_count": 16
        }
      ]
    },
    {
      "cell_type": "code",
      "metadata": {
        "id": "xgkL-8RaLaL8",
        "colab_type": "code",
        "colab": {}
      },
      "source": [
        "capsule2_n_caps = 10\n",
        "capsule2_n_dims = 16"
      ],
      "execution_count": 0,
      "outputs": []
    },
    {
      "cell_type": "code",
      "metadata": {
        "id": "A9ZpRyTQPWPT",
        "colab_type": "code",
        "colab": {}
      },
      "source": [
        "def condition(counter , capsule_prediction , raw_weights , capsule2_output_pred):\n",
        "  return tf.less(counter , 2)"
      ],
      "execution_count": 0,
      "outputs": []
    },
    {
      "cell_type": "code",
      "metadata": {
        "id": "n2OZaGHCPiKD",
        "colab_type": "code",
        "colab": {}
      },
      "source": [
        "def loop_body(counter , capsule_prediction , raw_weights , capsule2_output_pred):\n",
        "  routing_weights = tf.nn.softmax(raw_weights , axis=2 , name='routing_weights')\n",
        "  weighted_predictions = tf.multiply(routing_weights , capsule_prediction)\n",
        "  weighted_sum = tf.reduce_sum(weighted_predictions , axis=1 , keepdims=True)\n",
        "  capsule2_output = squash(weighted_sum , axis=-2)\n",
        "  capsule2_output_tiled = tf.tile(capsule2_output , [1 , capsule1_n_caps , 1 , 1 , 1])\n",
        "  agreement = tf.matmul(capsule_prediction , capsule2_output_tiled , transpose_a=True , name='agreement')\n",
        "  raw_weights = tf.add(raw_weights , agreement)\n",
        "  return tf.add(counter , 1) , capsule_prediction , raw_weights , capsule2_output"
      ],
      "execution_count": 0,
      "outputs": []
    },
    {
      "cell_type": "code",
      "metadata": {
        "id": "lHz1l_3QIIXb",
        "colab_type": "code",
        "colab": {}
      },
      "source": [
        "class CapsuleLayer(tf.keras.layers.Layer):\n",
        "  def __init__(self , **kwargs):\n",
        "    super(CapsuleLayer , self).__init__(**kwargs)\n",
        "    self.kernel_initializer = tf.keras.initializers.get('glorot_uniform')\n",
        "\n",
        "  def build(self , inp_tensor):\n",
        "    self.init_sigma = 0.1\n",
        "    self.W_init = tf.random.normal(shape=(1 , capsule1_n_caps , capsule2_n_caps , capsule2_n_dims , 8) , stddev=self.init_sigma)\n",
        "    self.W = tf.Variable(self.W_init , name=\"W\")\n",
        "    # self.W = self.add_weight(shape = [10 , 6*6*32 , 16 , 8] , initializer = self.kernel_initializer , name = 'caps_weights')\n",
        "    self.built = True\n",
        "\n",
        "  def call(self , inputs):\n",
        "    batch_size = tf.shape(inputs)[0]\n",
        "    W_tiled = tf.tile(self.W , [batch_size , 1 , 1 , 1 , 1] , name='W_tiled')\n",
        "    capsule1_out_exp = tf.expand_dims(inputs , -1 , name='capsule1_out_exp')\n",
        "    capsule1_out_tile = tf.expand_dims(capsule1_out_exp , 2 , name='capsule1_out_tile')\n",
        "    capsule1_out_tiled = tf.tile(capsule1_out_tile , [1 , 1 , capsule2_n_caps , 1 , 1] , name='capsule1_out_tiled')\n",
        "    \n",
        "    capsule2_pred = tf.matmul(W_tiled , capsule1_out_tiled , name='capsule2_pred')\n",
        "\n",
        "    #ROUTING ALGORITHM\n",
        "\n",
        "    capsule2_output = tf.zeros(shape=(batch_size , 1 , 10 , 16 , 1))\n",
        "    counter = tf.constant(0)\n",
        "    b = tf.zeros([batch_size , capsule1_n_caps , capsule2_n_caps , 1 , 1] , name='b')\n",
        "    _ , _ , _ , capsule2_output = tf.while_loop(condition , loop_body , [counter , capsule2_pred , b , capsule2_output] , swap_memory=True)\n",
        "\n",
        "    return capsule2_output\n",
        "    # inputs = tf.keras.backend.expand_dims(inputs , 1)\n",
        "    # inputs = tf.keras.backend.tile(inputs , [1 , 10 , 1 , 1])\n",
        "    # inputs = tf.keras.backend.map_fn(lambda x: tf.keras.backend.batch_dot(x , self.W , [2 , 3]) , elems=inputs)\n",
        "    # b = tf.zeros(shape=[tf.keras.backend.shape(inputs)[0] , 10 , 6*6*32])\n",
        "\n",
        "    # for"
      ],
      "execution_count": 0,
      "outputs": []
    },
    {
      "cell_type": "code",
      "metadata": {
        "id": "getmkKeYXB_b",
        "colab_type": "code",
        "colab": {}
      },
      "source": [
        "capsules = CapsuleLayer()(capsule1_out)"
      ],
      "execution_count": 0,
      "outputs": []
    },
    {
      "cell_type": "code",
      "metadata": {
        "id": "30mL-LfWaxbx",
        "colab_type": "code",
        "outputId": "eb639160-d530-451c-c81d-624138edc28f",
        "colab": {
          "base_uri": "https://localhost:8080/",
          "height": 34
        }
      },
      "source": [
        "capsules"
      ],
      "execution_count": 22,
      "outputs": [
        {
          "output_type": "execute_result",
          "data": {
            "text/plain": [
              "<tf.Tensor 'capsule_layer/Identity:0' shape=(None, 1, 10, 16, 1) dtype=float32>"
            ]
          },
          "metadata": {
            "tags": []
          },
          "execution_count": 22
        }
      ]
    },
    {
      "cell_type": "code",
      "metadata": {
        "id": "AYZHYXarcSzp",
        "colab_type": "code",
        "colab": {}
      },
      "source": [
        "def custom_norm(input , axis=-1 , epsilon=1e-7 , keep_dims=False):\n",
        "  return tf.sqrt(tf.reduce_sum(tf.square(input) , axis=axis , keepdims=keep_dims) + epsilon)"
      ],
      "execution_count": 0,
      "outputs": []
    },
    {
      "cell_type": "code",
      "metadata": {
        "id": "BvOhu2j2SOZk",
        "colab_type": "code",
        "colab": {}
      },
      "source": [
        "output = tf.keras.layers.Lambda(custom_norm , arguments={'axis':-2})(capsules)"
      ],
      "execution_count": 0,
      "outputs": []
    },
    {
      "cell_type": "code",
      "metadata": {
        "id": "pXDJfns4Seqr",
        "colab_type": "code",
        "outputId": "429ffaaa-697d-4a45-a224-5efa1637fe8b",
        "colab": {
          "base_uri": "https://localhost:8080/",
          "height": 34
        }
      },
      "source": [
        "output.shape"
      ],
      "execution_count": 25,
      "outputs": [
        {
          "output_type": "execute_result",
          "data": {
            "text/plain": [
              "TensorShape([None, 1, 10, 1])"
            ]
          },
          "metadata": {
            "tags": []
          },
          "execution_count": 25
        }
      ]
    },
    {
      "cell_type": "code",
      "metadata": {
        "id": "oaS5MSZeXd2X",
        "colab_type": "code",
        "outputId": "cc024dd0-d035-4521-e0fc-719e5aeb6f65",
        "colab": {
          "base_uri": "https://localhost:8080/",
          "height": 34
        }
      },
      "source": [
        "y = tf.keras.Input(() , dtype=tf.int64)\n",
        "y"
      ],
      "execution_count": 26,
      "outputs": [
        {
          "output_type": "execute_result",
          "data": {
            "text/plain": [
              "<tf.Tensor 'input_1:0' shape=(None,) dtype=int64>"
            ]
          },
          "metadata": {
            "tags": []
          },
          "execution_count": 26
        }
      ]
    },
    {
      "cell_type": "code",
      "metadata": {
        "id": "FBeH98Xoeucc",
        "colab_type": "code",
        "colab": {}
      },
      "source": [
        "m_plus = 0.9\n",
        "m_minus = 0.1\n",
        "lambda_ = 0.5\n",
        "ALPHA = 0.0005"
      ],
      "execution_count": 0,
      "outputs": []
    },
    {
      "cell_type": "code",
      "metadata": {
        "id": "btDYAqEoZHr7",
        "colab_type": "code",
        "colab": {}
      },
      "source": [
        "def mask_handler(outputs):\n",
        "  capsule2_output = outputs[0]\n",
        "  y_out = outputs[1]\n",
        "  output_argmax = tf.argmax(output , axis=2)\n",
        "  output_pred = tf.squeeze(output_argmax , axis=[1 , 2])\n",
        "\n",
        "  mask_with_labels = tf.Variable(False , shape=() , name='mask_with_labels')\n",
        "  reconstruction_targets = tf.cond(mask_with_labels , lambda: y_out , lambda: output_pred)\n",
        "  reconstruction_mask = tf.one_hot(reconstruction_targets , depth=capsule2_n_caps)\n",
        "  reconstruction_mask_reshaped = tf.reshape(reconstruction_mask , (-1 , 1 , capsule2_n_caps , 1 , 1))\n",
        "  capsule2_output_masked = tf.multiply(capsule2_output , reconstruction_mask_reshaped)\n",
        "  return tf.reshape(capsule2_output_masked , (-1 , capsule2_n_caps * capsule2_n_dims))"
      ],
      "execution_count": 0,
      "outputs": []
    },
    {
      "cell_type": "code",
      "metadata": {
        "id": "lerbG4shguK3",
        "colab_type": "code",
        "outputId": "b7788d1d-c14f-48aa-914b-0810b3c6b376",
        "colab": {
          "base_uri": "https://localhost:8080/",
          "height": 34
        }
      },
      "source": [
        "masked = tf.keras.layers.Lambda(mask_handler)([capsules , y])\n",
        "masked"
      ],
      "execution_count": 29,
      "outputs": [
        {
          "output_type": "execute_result",
          "data": {
            "text/plain": [
              "<tf.Tensor 'lambda_2/Identity:0' shape=(None, 160) dtype=float32>"
            ]
          },
          "metadata": {
            "tags": []
          },
          "execution_count": 29
        }
      ]
    },
    {
      "cell_type": "code",
      "metadata": {
        "id": "uzZ3qLY3iWLU",
        "colab_type": "code",
        "outputId": "5c2b6f8a-ec53-4100-ff64-3f8ad9bb67bb",
        "colab": {
          "base_uri": "https://localhost:8080/",
          "height": 34
        }
      },
      "source": [
        "decoder_input = tf.keras.Input((capsule2_n_caps * capsule2_n_dims , ))\n",
        "decoder_outputs = tf.keras.layers.Dense(512 , activation='relu')(decoder_input)\n",
        "decoder_outputs = tf.keras.layers.Dense(1024 , activation='relu')(decoder_outputs)\n",
        "decoder_outputs = tf.keras.layers.Dense(28*28 , activation='sigmoid')(decoder_outputs)\n",
        "decoder_outputs"
      ],
      "execution_count": 30,
      "outputs": [
        {
          "output_type": "execute_result",
          "data": {
            "text/plain": [
              "<tf.Tensor 'dense_2/Identity:0' shape=(None, 784) dtype=float32>"
            ]
          },
          "metadata": {
            "tags": []
          },
          "execution_count": 30
        }
      ]
    },
    {
      "cell_type": "code",
      "metadata": {
        "id": "GCRadLBpdCPo",
        "colab_type": "code",
        "colab": {}
      },
      "source": [
        "def margin_loss_fx(y_true , y_pred):\n",
        "  y_true = tf.one_hot(y_true , depth=capsule2_n_caps)\n",
        "  capsule2_output_norm = custom_norm(y_pred , axis=-2 , keep_dims=True)\n",
        "  present_error_raw = tf.square(tf.maximum(0. , m_plus - capsule2_output_norm))\n",
        "  present_error = tf.reshape(present_error_raw , shape=(-1 , 10))\n",
        "  absent_error_raw = tf.square(tf.maximum(0. , capsule2_output_norm - m_minus))\n",
        "  absent_error = tf.reshape(absent_error_raw , shape=(-1 , 10))\n",
        "\n",
        "  L = tf.add(y_true * present_error , lambda_ * (1.0 - y_true) * absent_error)\n",
        "  return tf.reduce_mean(tf.reduce_sum(L , axis=1))"
      ],
      "execution_count": 0,
      "outputs": []
    },
    {
      "cell_type": "code",
      "metadata": {
        "id": "Pwgllnk7NZGn",
        "colab_type": "code",
        "colab": {}
      },
      "source": [
        "def reconstruction_loss_fx(x_train , decoder_outputs):\n",
        "  x_flat = tf.reshape(x_train , [-1 , 28*28])\n",
        "  return tf.reduce_mean(tf.square(x_flat - decoder_outputs))"
      ],
      "execution_count": 0,
      "outputs": []
    },
    {
      "cell_type": "code",
      "metadata": {
        "id": "JB8mA4c70Ljd",
        "colab_type": "code",
        "colab": {}
      },
      "source": [
        "def loss_fx(y_true , y_pred):\n",
        "  return tf.add(margin_loss_fx(y_true[0] , y_pred[0]) , ALPHA * reconstruction_loss_fx(y_true[1] , y_pred[1]))"
      ],
      "execution_count": 0,
      "outputs": []
    },
    {
      "cell_type": "code",
      "metadata": {
        "id": "CPjgU1Xx07UP",
        "colab_type": "code",
        "colab": {}
      },
      "source": [
        "decoder = tf.keras.Model(decoder_input , decoder_outputs)\n",
        "model = tf.keras.Model([inp_tensor , y] , [output , decoder(masked)])"
      ],
      "execution_count": 0,
      "outputs": []
    },
    {
      "cell_type": "code",
      "metadata": {
        "id": "wVNpEF8p3KEg",
        "colab_type": "code",
        "colab": {
          "base_uri": "https://localhost:8080/",
          "height": 510
        },
        "outputId": "9764cc78-9b00-495e-a2b9-f3bc459189d3"
      },
      "source": [
        "model.summary()"
      ],
      "execution_count": 36,
      "outputs": [
        {
          "output_type": "stream",
          "text": [
            "Model: \"model_1\"\n",
            "__________________________________________________________________________________________________\n",
            "Layer (type)                    Output Shape         Param #     Connected to                     \n",
            "==================================================================================================\n",
            "input_tensor (InputLayer)       [(None, 28, 28, 1)]  0                                            \n",
            "__________________________________________________________________________________________________\n",
            "conv2d (Conv2D)                 (None, 20, 20, 256)  20992       input_tensor[0][0]               \n",
            "__________________________________________________________________________________________________\n",
            "conv2d_1 (Conv2D)               (None, 6, 6, 256)    5308672     conv2d[0][0]                     \n",
            "__________________________________________________________________________________________________\n",
            "reshape (Reshape)               (None, 1152, 8)      0           conv2d_1[0][0]                   \n",
            "__________________________________________________________________________________________________\n",
            "lambda (Lambda)                 (None, 1152, 8)      0           reshape[0][0]                    \n",
            "__________________________________________________________________________________________________\n",
            "capsule_layer (CapsuleLayer)    (None, 1, 10, 16, 1) 1474560     lambda[0][0]                     \n",
            "__________________________________________________________________________________________________\n",
            "input_1 (InputLayer)            [(None,)]            0                                            \n",
            "__________________________________________________________________________________________________\n",
            "lambda_2 (Lambda)               (None, 160)          1           capsule_layer[0][0]              \n",
            "                                                                 input_1[0][0]                    \n",
            "__________________________________________________________________________________________________\n",
            "lambda_1 (Lambda)               (None, 1, 10, 1)     0           capsule_layer[0][0]              \n",
            "__________________________________________________________________________________________________\n",
            "model (Model)                   (None, 784)          1411344     lambda_2[0][0]                   \n",
            "==================================================================================================\n",
            "Total params: 8,215,569\n",
            "Trainable params: 8,215,569\n",
            "Non-trainable params: 0\n",
            "__________________________________________________________________________________________________\n"
          ],
          "name": "stdout"
        }
      ]
    },
    {
      "cell_type": "code",
      "metadata": {
        "id": "kIER8fjH4KT4",
        "colab_type": "code",
        "colab": {
          "base_uri": "https://localhost:8080/",
          "height": 34
        },
        "outputId": "e6fbc0da-c330-4422-e690-63b35b303c9d"
      },
      "source": [
        "tester = tf.expand_dims(train_images[0] , axis=0)\n",
        "tester.shape"
      ],
      "execution_count": 44,
      "outputs": [
        {
          "output_type": "execute_result",
          "data": {
            "text/plain": [
              "TensorShape([1, 28, 28, 1])"
            ]
          },
          "metadata": {
            "tags": []
          },
          "execution_count": 44
        }
      ]
    },
    {
      "cell_type": "code",
      "metadata": {
        "id": "J866E9gQ3MED",
        "colab_type": "code",
        "colab": {
          "base_uri": "https://localhost:8080/",
          "height": 333
        },
        "outputId": "61d83f9a-0e34-44ae-97c7-ce1e1aef8196"
      },
      "source": [
        "test_label_pred , test_decoded_pred = model.predict([tester , train_labels[0]])\n",
        "print(\"Prediction Test\\nLabel Shape : {}\\tDecoder output Shape : {}\\n\".format(test_label_pred.shape , test_decoded_pred.shape))\n",
        "\n",
        "test_decoded_pred = test_decoded_pred.reshape((28 , 28))\n",
        "plt.imshow(test_decoded_pred)"
      ],
      "execution_count": 50,
      "outputs": [
        {
          "output_type": "stream",
          "text": [
            "Prediction Test\n",
            "Label Shape : (1, 1, 10, 1)\tDecoder output Shape : (1, 784)\n",
            "\n"
          ],
          "name": "stdout"
        },
        {
          "output_type": "execute_result",
          "data": {
            "text/plain": [
              "<matplotlib.image.AxesImage at 0x7f893758f470>"
            ]
          },
          "metadata": {
            "tags": []
          },
          "execution_count": 50
        },
        {
          "output_type": "display_data",
          "data": {
            "image/png": "[encoded data removed]",
            "text/plain": [
              "<Figure size 432x288 with 1 Axes>"
            ]
          },
          "metadata": {
            "tags": []
          }
        }
      ]
    },
    {
      "cell_type": "code",
      "metadata": {
        "id": "XAf5sNkP4ETV",
        "colab_type": "code",
        "colab": {}
      },
      "source": [
        ""
      ],
      "execution_count": 0,
      "outputs": []
    }
  ]
}