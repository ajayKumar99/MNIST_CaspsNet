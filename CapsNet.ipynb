{
  "nbformat": 4,
  "nbformat_minor": 0,
  "metadata": {
    "colab": {
      "name": "CapsNet.ipynb",
      "provenance": []
    },
    "kernelspec": {
      "name": "python3",
      "display_name": "Python 3"
    },
    "accelerator": "GPU"
  },
  "cells": [
    {
      "cell_type": "code",
      "metadata": {
        "id": "b1ECF8ClYMaY",
        "colab_type": "code",
        "colab": {}
      },
      "source": [
        "!pip install tensorflow-gpu"
      ],
      "execution_count": 0,
      "outputs": []
    },
    {
      "cell_type": "code",
      "metadata": {
        "id": "DJvG4Sif_tzp",
        "colab_type": "code",
        "colab": {}
      },
      "source": [
        "import tensorflow as tf"
      ],
      "execution_count": 0,
      "outputs": []
    },
    {
      "cell_type": "code",
      "metadata": {
        "id": "J5epV04CYEBt",
        "colab_type": "code",
        "outputId": "c5390580-8dea-40ae-b6bb-97e6880d8608",
        "colab": {
          "base_uri": "https://localhost:8080/",
          "height": 34
        }
      },
      "source": [
        "tf.__version__"
      ],
      "execution_count": 0,
      "outputs": [
        {
          "output_type": "execute_result",
          "data": {
            "text/plain": [
              "'2.0.0'"
            ]
          },
          "metadata": {
            "tags": []
          },
          "execution_count": 2
        }
      ]
    },
    {
      "cell_type": "code",
      "metadata": {
        "id": "_CEJW7jRYKr3",
        "colab_type": "code",
        "colab": {}
      },
      "source": [
        "import numpy as np\n",
        "import pandas as pd\n",
        "import matplotlib.pyplot as plt"
      ],
      "execution_count": 0,
      "outputs": []
    },
    {
      "cell_type": "code",
      "metadata": {
        "id": "abQNtJWlYxE1",
        "colab_type": "code",
        "outputId": "70376cdb-25df-4f50-e8fb-5121d8d3fc58",
        "colab": {
          "base_uri": "https://localhost:8080/",
          "height": 51
        }
      },
      "source": [
        "dataset = tf.keras.datasets.mnist.load_data()"
      ],
      "execution_count": 0,
      "outputs": [
        {
          "output_type": "stream",
          "text": [
            "Downloading data from https://storage.googleapis.com/tensorflow/tf-keras-datasets/mnist.npz\n",
            "11493376/11490434 [==============================] - 0s 0us/step\n"
          ],
          "name": "stdout"
        }
      ]
    },
    {
      "cell_type": "code",
      "metadata": {
        "id": "UHrK1Df6at-W",
        "colab_type": "code",
        "colab": {}
      },
      "source": [
        "train_data = dataset[0]\n",
        "test_data = dataset[1]"
      ],
      "execution_count": 0,
      "outputs": []
    },
    {
      "cell_type": "code",
      "metadata": {
        "id": "vkhxNScQbKBV",
        "colab_type": "code",
        "outputId": "da313b24-1e19-4525-d2b4-a4fe0000cebe",
        "colab": {
          "base_uri": "https://localhost:8080/",
          "height": 51
        }
      },
      "source": [
        "train_images = train_data[0]\n",
        "train_labels = train_data[1]\n",
        "\n",
        "print('Train Images : {}\\nLabels : {}'.format(train_images.shape , train_labels.shape))"
      ],
      "execution_count": 0,
      "outputs": [
        {
          "output_type": "stream",
          "text": [
            "Train Images : (60000, 28, 28)\n",
            "Labels : (60000,)\n"
          ],
          "name": "stdout"
        }
      ]
    },
    {
      "cell_type": "code",
      "metadata": {
        "id": "VTWeVGGCZwpD",
        "colab_type": "code",
        "outputId": "a7aa93b3-ed3a-4b3a-8a8f-a6dbd97543ff",
        "colab": {
          "base_uri": "https://localhost:8080/",
          "height": 282
        }
      },
      "source": [
        "i = 0\n",
        "plt.imshow(train_images[i])\n",
        "print('Label - {}'.format(train_labels[i]))"
      ],
      "execution_count": 0,
      "outputs": [
        {
          "output_type": "stream",
          "text": [
            "Label - 5\n"
          ],
          "name": "stdout"
        },
        {
          "output_type": "display_data",
          "data": {
            "image/png": "[encoded data removed]",
            "text/plain": [
              "<Figure size 432x288 with 1 Axes>"
            ]
          },
          "metadata": {
            "tags": []
          }
        }
      ]
    },
    {
      "cell_type": "markdown",
      "metadata": {
        "id": "-dqCLytrc3sV",
        "colab_type": "text"
      },
      "source": [
        "#**Capsule Network for MNIST**"
      ]
    },
    {
      "cell_type": "code",
      "metadata": {
        "id": "VLFbzTTydtGl",
        "colab_type": "code",
        "colab": {}
      },
      "source": [
        "inp_tensor = tf.keras.Input(shape=(28,28,1) , dtype=tf.float32 , name=\"input_tensor\")"
      ],
      "execution_count": 0,
      "outputs": []
    },
    {
      "cell_type": "code",
      "metadata": {
        "id": "s7C211xzKUXW",
        "colab_type": "code",
        "outputId": "a20d6ee8-120c-4d66-dbf0-d1b2e48a9acc",
        "colab": {
          "base_uri": "https://localhost:8080/",
          "height": 34
        }
      },
      "source": [
        "tf.shape(inp_tensor)[0]"
      ],
      "execution_count": 0,
      "outputs": [
        {
          "output_type": "execute_result",
          "data": {
            "text/plain": [
              "<tf.Tensor 'strided_slice:0' shape=() dtype=int32>"
            ]
          },
          "metadata": {
            "tags": []
          },
          "execution_count": 9
        }
      ]
    },
    {
      "cell_type": "code",
      "metadata": {
        "id": "swmkIV2ie61Q",
        "colab_type": "code",
        "colab": {}
      },
      "source": [
        "conv1 = tf.keras.layers.Conv2D(256 , (9,9) , activation = 'relu' , padding = 'valid')(inp_tensor)\n",
        "conv2 = tf.keras.layers.Conv2D(256 , (9,9) , strides = 2 , padding = 'valid' , activation='relu')(conv1)"
      ],
      "execution_count": 0,
      "outputs": []
    },
    {
      "cell_type": "code",
      "metadata": {
        "id": "F8bYQJ8yKdvI",
        "colab_type": "code",
        "colab": {}
      },
      "source": [
        "capsule1_n_caps = 6*6*32\n",
        "capsule1_n_dims = 8"
      ],
      "execution_count": 0,
      "outputs": []
    },
    {
      "cell_type": "code",
      "metadata": {
        "id": "yOSV2T_JE09i",
        "colab_type": "code",
        "colab": {}
      },
      "source": [
        "capsule1_raw = tf.keras.layers.Reshape((capsule1_n_caps , capsule1_n_dims))(conv2)"
      ],
      "execution_count": 0,
      "outputs": []
    },
    {
      "cell_type": "code",
      "metadata": {
        "id": "H2h441UTZD55",
        "colab_type": "code",
        "outputId": "1c2bac01-63ce-4f3b-9c7b-cb49e6a1d3ca",
        "colab": {
          "base_uri": "https://localhost:8080/",
          "height": 34
        }
      },
      "source": [
        "capsule1_raw.shape"
      ],
      "execution_count": 0,
      "outputs": [
        {
          "output_type": "execute_result",
          "data": {
            "text/plain": [
              "TensorShape([None, 1152, 8])"
            ]
          },
          "metadata": {
            "tags": []
          },
          "execution_count": 13
        }
      ]
    },
    {
      "cell_type": "code",
      "metadata": {
        "id": "GCODq4aNF8rw",
        "colab_type": "code",
        "colab": {}
      },
      "source": [
        "def squash(inputs , axis=-1):\n",
        "  sq_norm = tf.keras.backend.sum(tf.keras.backend.square(inputs) , axis=axis , keepdims=True)\n",
        "  return ((sq_norm/(1. + sq_norm))/(tf.keras.backend.sqrt(sq_norm + tf.keras.backend.epsilon())))*inputs"
      ],
      "execution_count": 0,
      "outputs": []
    },
    {
      "cell_type": "code",
      "metadata": {
        "id": "ita_O_qYHkJN",
        "colab_type": "code",
        "colab": {}
      },
      "source": [
        "capsule1_out = tf.keras.layers.Lambda(squash)(capsule1_raw)"
      ],
      "execution_count": 0,
      "outputs": []
    },
    {
      "cell_type": "code",
      "metadata": {
        "id": "QD7p5pbTYsvK",
        "colab_type": "code",
        "outputId": "28fc05cc-8d31-4bee-aa1f-66c8e2fdb78f",
        "colab": {
          "base_uri": "https://localhost:8080/",
          "height": 34
        }
      },
      "source": [
        "capsule1_out.shape"
      ],
      "execution_count": 0,
      "outputs": [
        {
          "output_type": "execute_result",
          "data": {
            "text/plain": [
              "TensorShape([None, 1152, 8])"
            ]
          },
          "metadata": {
            "tags": []
          },
          "execution_count": 16
        }
      ]
    },
    {
      "cell_type": "code",
      "metadata": {
        "id": "xgkL-8RaLaL8",
        "colab_type": "code",
        "colab": {}
      },
      "source": [
        "capsule2_n_caps = 10\n",
        "capsule2_n_dims = 16"
      ],
      "execution_count": 0,
      "outputs": []
    },
    {
      "cell_type": "code",
      "metadata": {
        "id": "A9ZpRyTQPWPT",
        "colab_type": "code",
        "colab": {}
      },
      "source": [
        "def condition(counter , capsule_prediction , raw_weights , capsule2_output_pred):\n",
        "  return tf.less(counter , 2)"
      ],
      "execution_count": 0,
      "outputs": []
    },
    {
      "cell_type": "code",
      "metadata": {
        "id": "n2OZaGHCPiKD",
        "colab_type": "code",
        "colab": {}
      },
      "source": [
        "def loop_body(counter , capsule_prediction , raw_weights , capsule2_output_pred):\n",
        "  routing_weights = tf.nn.softmax(raw_weights , axis=2 , name='routing_weights')\n",
        "  weighted_predictions = tf.multiply(routing_weights , capsule_prediction)\n",
        "  weighted_sum = tf.reduce_sum(weighted_predictions , axis=1 , keepdims=True)\n",
        "  capsule2_output = squash(weighted_sum , axis=-2)\n",
        "  capsule2_output_tiled = tf.tile(capsule2_output , [1 , capsule1_n_caps , 1 , 1 , 1])\n",
        "  agreement = tf.matmul(capsule_prediction , capsule2_output_tiled , transpose_a=True , name='agreement')\n",
        "  raw_weights = tf.add(raw_weights , agreement)\n",
        "  return tf.add(counter , 1) , capsule_prediction , raw_weights , capsule2_output"
      ],
      "execution_count": 0,
      "outputs": []
    },
    {
      "cell_type": "code",
      "metadata": {
        "id": "lHz1l_3QIIXb",
        "colab_type": "code",
        "colab": {}
      },
      "source": [
        "class CapsuleLayer(tf.keras.layers.Layer):\n",
        "  def __init__(self , **kwargs):\n",
        "    super(CapsuleLayer , self).__init__(**kwargs)\n",
        "    self.kernel_initializer = tf.keras.initializers.get('glorot_uniform')\n",
        "\n",
        "  def build(self , inp_tensor):\n",
        "    self.init_sigma = 0.1\n",
        "    self.W_init = tf.random.normal(shape=(1 , capsule1_n_caps , capsule2_n_caps , capsule2_n_dims , 8) , stddev=self.init_sigma)\n",
        "    self.W = tf.Variable(self.W_init , name=\"W\")\n",
        "    # self.W = self.add_weight(shape = [10 , 6*6*32 , 16 , 8] , initializer = self.kernel_initializer , name = 'caps_weights')\n",
        "    self.built = True\n",
        "\n",
        "  def call(self , inputs):\n",
        "    batch_size = tf.shape(inputs)[0]\n",
        "    W_tiled = tf.tile(self.W , [batch_size , 1 , 1 , 1 , 1] , name='W_tiled')\n",
        "    capsule1_out_exp = tf.expand_dims(inputs , -1 , name='capsule1_out_exp')\n",
        "    capsule1_out_tile = tf.expand_dims(capsule1_out_exp , 2 , name='capsule1_out_tile')\n",
        "    capsule1_out_tiled = tf.tile(capsule1_out_tile , [1 , 1 , capsule2_n_caps , 1 , 1] , name='capsule1_out_tiled')\n",
        "    \n",
        "    capsule2_pred = tf.matmul(W_tiled , capsule1_out_tiled , name='capsule2_pred')\n",
        "\n",
        "    #ROUTING ALGORITHM\n",
        "\n",
        "    capsule2_output = tf.zeros(shape=(batch_size , 1 , 10 , 16 , 1))\n",
        "    counter = tf.constant(0)\n",
        "    b = tf.zeros([batch_size , capsule1_n_caps , capsule2_n_caps , 1 , 1] , name='b')\n",
        "    _ , _ , _ , capsule2_output = tf.while_loop(condition , loop_body , [counter , capsule2_pred , b , capsule2_output] , swap_memory=True)\n",
        "\n",
        "    return capsule2_output\n",
        "    # inputs = tf.keras.backend.expand_dims(inputs , 1)\n",
        "    # inputs = tf.keras.backend.tile(inputs , [1 , 10 , 1 , 1])\n",
        "    # inputs = tf.keras.backend.map_fn(lambda x: tf.keras.backend.batch_dot(x , self.W , [2 , 3]) , elems=inputs)\n",
        "    # b = tf.zeros(shape=[tf.keras.backend.shape(inputs)[0] , 10 , 6*6*32])\n",
        "\n",
        "    # for"
      ],
      "execution_count": 0,
      "outputs": []
    },
    {
      "cell_type": "code",
      "metadata": {
        "id": "getmkKeYXB_b",
        "colab_type": "code",
        "colab": {}
      },
      "source": [
        "capsules = CapsuleLayer()(capsule1_out)"
      ],
      "execution_count": 0,
      "outputs": []
    },
    {
      "cell_type": "code",
      "metadata": {
        "id": "30mL-LfWaxbx",
        "colab_type": "code",
        "outputId": "1180add7-b687-4f2d-eefe-ff34f357e0ee",
        "colab": {
          "base_uri": "https://localhost:8080/",
          "height": 34
        }
      },
      "source": [
        "capsules"
      ],
      "execution_count": 0,
      "outputs": [
        {
          "output_type": "execute_result",
          "data": {
            "text/plain": [
              "<tf.Tensor 'capsule_layer_1/Identity:0' shape=(None, 1, 10, 16, 1) dtype=float32>"
            ]
          },
          "metadata": {
            "tags": []
          },
          "execution_count": 25
        }
      ]
    },
    {
      "cell_type": "code",
      "metadata": {
        "id": "AYZHYXarcSzp",
        "colab_type": "code",
        "colab": {}
      },
      "source": [
        "def custom_norm(input , axis=-1 , epsilon=1e-7 , keep_dims=False):\n",
        "  return tf.sqrt(tf.reduce_sum(tf.square(input) , axis=axis , keepdims=keep_dims) + epsilon)"
      ],
      "execution_count": 0,
      "outputs": []
    },
    {
      "cell_type": "code",
      "metadata": {
        "id": "BvOhu2j2SOZk",
        "colab_type": "code",
        "colab": {}
      },
      "source": [
        "output = tf.keras.layers.Lambda(custom_norm , arguments={'axis':-2})(capsules)"
      ],
      "execution_count": 0,
      "outputs": []
    },
    {
      "cell_type": "code",
      "metadata": {
        "id": "pXDJfns4Seqr",
        "colab_type": "code",
        "outputId": "ee449d9d-6619-43ff-8991-cdb2c4a97806",
        "colab": {
          "base_uri": "https://localhost:8080/",
          "height": 34
        }
      },
      "source": [
        "output.shape"
      ],
      "execution_count": 0,
      "outputs": [
        {
          "output_type": "execute_result",
          "data": {
            "text/plain": [
              "TensorShape([None, 1, 10, 1])"
            ]
          },
          "metadata": {
            "tags": []
          },
          "execution_count": 39
        }
      ]
    },
    {
      "cell_type": "code",
      "metadata": {
        "id": "Dv8Rr383Sf1P",
        "colab_type": "code",
        "outputId": "e04491ae-e2c8-47e8-c972-3559358a6e35",
        "colab": {
          "base_uri": "https://localhost:8080/",
          "height": 34
        }
      },
      "source": [
        "output_argmax = tf.argmax(output , axis=2)\n",
        "output_argmax"
      ],
      "execution_count": 0,
      "outputs": [
        {
          "output_type": "execute_result",
          "data": {
            "text/plain": [
              "<tf.Tensor 'ArgMax:0' shape=(None, 1, 1) dtype=int64>"
            ]
          },
          "metadata": {
            "tags": []
          },
          "execution_count": 40
        }
      ]
    },
    {
      "cell_type": "code",
      "metadata": {
        "id": "hoCLm7RaTQpv",
        "colab_type": "code",
        "outputId": "8f2fb725-e109-4428-a8c3-7d8d666cc73b",
        "colab": {
          "base_uri": "https://localhost:8080/",
          "height": 34
        }
      },
      "source": [
        "output_pred = tf.squeeze(output_argmax , axis=[1 , 2])\n",
        "output_pred"
      ],
      "execution_count": 0,
      "outputs": [
        {
          "output_type": "execute_result",
          "data": {
            "text/plain": [
              "<tf.Tensor 'Squeeze:0' shape=(None,) dtype=int64>"
            ]
          },
          "metadata": {
            "tags": []
          },
          "execution_count": 41
        }
      ]
    },
    {
      "cell_type": "code",
      "metadata": {
        "id": "oaS5MSZeXd2X",
        "colab_type": "code",
        "outputId": "dcfe144b-6253-492b-a1dc-1f335fa47fe3",
        "colab": {
          "base_uri": "https://localhost:8080/",
          "height": 34
        }
      },
      "source": [
        "y = tf.keras.Input(() , dtype=tf.int64)\n",
        "y"
      ],
      "execution_count": 0,
      "outputs": [
        {
          "output_type": "execute_result",
          "data": {
            "text/plain": [
              "<tf.Tensor 'input_2:0' shape=(None,) dtype=int64>"
            ]
          },
          "metadata": {
            "tags": []
          },
          "execution_count": 45
        }
      ]
    },
    {
      "cell_type": "code",
      "metadata": {
        "id": "FBeH98Xoeucc",
        "colab_type": "code",
        "colab": {}
      },
      "source": [
        "m_plus = 0.9\n",
        "m_minus = 0.1\n",
        "lambda_ = 0.5"
      ],
      "execution_count": 0,
      "outputs": []
    },
    {
      "cell_type": "code",
      "metadata": {
        "id": "btDYAqEoZHr7",
        "colab_type": "code",
        "colab": {}
      },
      "source": [
        "def mask_handler(outputs):\n",
        "  capsule2_output = outputs[0]\n",
        "  y_out = outputs[1]\n",
        "  output_argmax = tf.argmax(output , axis=2)\n",
        "  output_pred = tf.squeeze(output_argmax , axis=[1 , 2])\n",
        "\n",
        "  mask_with_labels = tf.Variable(False , shape=() , name='mask_with_labels')\n",
        "  reconstruction_targets = tf.cond(mask_with_labels , lambda: y_out , lambda: output_pred)\n",
        "  reconstruction_mask = tf.one_hot(reconstruction_targets , depth=capsule2_n_caps)\n",
        "  reconstruction_mask_reshaped = tf.reshape(reconstruction_mask , (-1 , 1 , capsule2_n_caps , 1 , 1))\n",
        "  capsule2_output_masked = tf.multiply(capsule2_output , reconstruction_mask_reshaped)\n",
        "  return tf.reshape(capsule2_output_masked , (-1 , capsule2_n_caps * capsule2_n_dims))"
      ],
      "execution_count": 0,
      "outputs": []
    },
    {
      "cell_type": "code",
      "metadata": {
        "id": "lerbG4shguK3",
        "colab_type": "code",
        "outputId": "76ffaa4d-78b8-4183-b7c1-301ed1b2fcfd",
        "colab": {
          "base_uri": "https://localhost:8080/",
          "height": 34
        }
      },
      "source": [
        "masked = tf.keras.layers.Lambda(mask_handler)([capsules , y])\n",
        "masked"
      ],
      "execution_count": 0,
      "outputs": [
        {
          "output_type": "execute_result",
          "data": {
            "text/plain": [
              "<tf.Tensor 'lambda_8/Identity:0' shape=(None, 160) dtype=float32>"
            ]
          },
          "metadata": {
            "tags": []
          },
          "execution_count": 57
        }
      ]
    },
    {
      "cell_type": "code",
      "metadata": {
        "id": "uzZ3qLY3iWLU",
        "colab_type": "code",
        "outputId": "6efce4f7-8535-423f-d857-c6283cfd38ff",
        "colab": {
          "base_uri": "https://localhost:8080/",
          "height": 34
        }
      },
      "source": [
        "decoder_input = tf.keras.Input((capsule2_n_caps * capsule2_n_dims , ))\n",
        "decoder_outputs = tf.keras.layers.Dense(512 , activation='relu')(decoder_input)\n",
        "decoder_outputs = tf.keras.layers.Dense(1024 , activation='relu')(decoder_outputs)\n",
        "decoder_outputs = tf.keras.layers.Dense(28*28 , activation='sigmoid')(decoder_outputs)\n",
        "decoder_outputs"
      ],
      "execution_count": 0,
      "outputs": [
        {
          "output_type": "execute_result",
          "data": {
            "text/plain": [
              "<tf.Tensor 'dense_2/Identity:0' shape=(None, 784) dtype=float32>"
            ]
          },
          "metadata": {
            "tags": []
          },
          "execution_count": 59
        }
      ]
    },
    {
      "cell_type": "code",
      "metadata": {
        "id": "GCRadLBpdCPo",
        "colab_type": "code",
        "colab": {}
      },
      "source": [
        "def loss_fx(y_true , y_pred):\n",
        "  y_true = tf.one_hot(y_true , depth=capsule2_n_caps)\n",
        "  capsule2_output_norm = custom_norm(y_pred , axis=-2 , keep_dims=True)\n",
        "  present_error_raw = tf.square(tf.maximum(0. , m_plus - capsule2_output_norm))\n",
        "  present_error = tf.reshape(present_error_raw , shape=(-1 , 10))\n",
        "  absent_error_raw = tf.square(tf.maximum(0. , capsule2_output_norm - m_minus))\n",
        "  absent_error = tf.reshape(absent_error_raw , shape=(-1 , 10))\n",
        "\n",
        "  L = tf.add(y_true * present_error , lambda_ * (1.0 - y_true) * absent_error)\n",
        "  margin_loss = tf.reduce_mean(tf.reduce_sum(L , axis=1))\n",
        "\n",
        "  X_flat = tf.reshape()"
      ],
      "execution_count": 0,
      "outputs": []
    }
  ]
}